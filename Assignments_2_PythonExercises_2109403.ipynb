{
  "nbformat": 4,
  "nbformat_minor": 0,
  "metadata": {
    "colab": {
      "provenance": [],
      "toc_visible": true,
      "include_colab_link": true
    },
    "kernelspec": {
      "name": "python3",
      "display_name": "Python 3"
    },
    "language_info": {
      "name": "python"
    }
  },
  "cells": [
    {
      "cell_type": "markdown",
      "metadata": {
        "id": "view-in-github",
        "colab_type": "text"
      },
      "source": [
        "<a href=\"https://colab.research.google.com/github/daniela2109403/IA_IB_2024_2109403/blob/main/Assignments_2_PythonExercises_2109403.ipynb\" target=\"_parent\"><img src=\"https://colab.research.google.com/assets/colab-badge.svg\" alt=\"Open In Colab\"/></a>"
      ]
    },
    {
      "cell_type": "markdown",
      "source": [
        "# Assignment 2 Basics on Python"
      ],
      "metadata": {
        "id": "5SddNexEasD7"
      }
    },
    {
      "cell_type": "markdown",
      "source": [
        "## Exercise 1. Text Analysis Tool"
      ],
      "metadata": {
        "id": "vVqLMIcnbAKU"
      }
    },
    {
      "cell_type": "code",
      "source": [
        "from collections import Counter  # Importing Counter class from collections module\n",
        "\n",
        "def analyze_text(content):\n",
        "    # Dividing the content into paragraphs\n",
        "    paragraph_list = content.split('\\n\\n')\n",
        "    paragraph_count = len(paragraph_list)\n",
        "\n",
        "    # Dividing the content into sentences\n",
        "    sentence_list = content.replace('!', '.').replace('?', '.').split('.')\n",
        "    sentence_count = len(sentence_list)\n",
        "\n",
        "    # Dividing the content into words\n",
        "    word_list = content.split()\n",
        "    word_count = len(word_list)\n",
        "\n",
        "    # Computing the average length of words\n",
        "    average_word_length = sum(len(w) for w in word_list) / word_count\n",
        "\n",
        "    # Finding the most frequent words and their occurrences\n",
        "    word_frequency = Counter(word_list)\n",
        "    top_words = word_frequency.most_common(10)\n",
        "\n",
        "    print(f'Total paragraphs: {paragraph_count}')\n",
        "    print(f'Total sentences: {sentence_count}')\n",
        "    print(f'Total words: {word_count}')\n",
        "    print(f'Average word length: {average_word_length:.2f}')\n",
        "    print('Top 10 most frequent words:')\n",
        "    for word, count in top_words:\n",
        "        print(f'{word}: {count}')\n",
        "\n",
        "# Testing the function with user input\n",
        "user_input = input(\"Please enter your text: \")\n",
        "analyze_text(user_input)\n"
      ],
      "metadata": {
        "colab": {
          "base_uri": "https://localhost:8080/"
        },
        "id": "dY9SHqyRbTnQ",
        "outputId": "319cd7b5-9b3a-4b8b-e7df-fa75d01e5ab0"
      },
      "execution_count": 3,
      "outputs": [
        {
          "output_type": "stream",
          "name": "stdout",
          "text": [
            "Please enter your text: Había una vez, al final del invierno, una joven y bondadosa reina que, paseando por el jardín de su palacio, vio una rosa roja creciendo a pesar del frío, cuando la fue a tocar se pinchó el dedo con una espina, y dejó caer tres gotas de sangre en la nieve. Fue entonces cuando la reina deseó tener una hija con la piel tan blanca como la nieve, los labios tan rojos como la sangre y el pelo negro tan negro como el ébano. Al poco tiempo, su deseo se cumplió, naciendo una encantadora princesa a quien la reina y su esposo, el rey, decidieron llamar Blancanieves. Sin embargo, la reina, madre de Blancanieves, se enfermó poco después de dar a luz y esta fallece. El rey se casó posteriormente con una mujer muy bella pero fría y altiva. La nueva y segunda esposa del rey, la nueva y segunda reina, la malvada madrastra de Blancanieves, realmente era una hechicera muy poderosa, y además de ser una mujer egoísta, malvada, mala y excesivamente vanidosa, era poseedora de un espejo encantado.\n",
            "Total paragraphs: 1\n",
            "Total sentences: 7\n",
            "Total words: 180\n",
            "Average word length: 4.50\n",
            "Top 10 most frequent words:\n",
            "y: 10\n",
            "la: 10\n",
            "una: 9\n",
            "de: 7\n",
            "el: 5\n",
            "a: 4\n",
            "se: 4\n",
            "del: 3\n",
            "reina: 3\n",
            "su: 3\n"
          ]
        }
      ]
    },
    {
      "cell_type": "markdown",
      "source": [
        "##Hangman Game"
      ],
      "metadata": {
        "id": "3eqM56tEmnxL"
      }
    },
    {
      "cell_type": "code",
      "source": [
        "# Import the random module\n",
        "import random\n",
        "\n",
        "# Define the Hangman function\n",
        "def hangman():\n",
        "    # Define a list of words to choose from\n",
        "    words = ['apple', 'banana', 'orange', 'kiwi', 'watermelon', 'melon', 'pear']\n",
        "\n",
        "    # Randomly choose a word from the list\n",
        "    word = random.choice(words)\n",
        "\n",
        "    # Create a list to store guessed letters\n",
        "    guessed_letters = []\n",
        "\n",
        "    attempts_left = 10\n",
        "\n",
        "    print(\"Welcome to Hangman!\")\n",
        "\n",
        "    # Start the game loop that continues until the player runs out of attempts\n",
        "    while attempts_left > 0:\n",
        "        word_guessed = True\n",
        "\n",
        "        # Display the word with guessed letters and underscores for remaining letters\n",
        "        for char in word:\n",
        "            if char in guessed_letters:  # Show guessed letters\n",
        "                print(char, end=' ')\n",
        "            else:  # Show underscores for letters not yet guessed\n",
        "                print('_', end=' ')\n",
        "                word_guessed = False\n",
        "\n",
        "        # Check if the entire word has been guessed\n",
        "        if word_guessed:\n",
        "            print(\"\\nCongratulations, you won!\")\n",
        "            return\n",
        "\n",
        "        # Ask the player to guess a letter\n",
        "        guess = input(\"\\nGuess a letter: \").lower()\n",
        "\n",
        "        # If the guessed letter is in the word, add it to the guessed list\n",
        "        if guess in word:\n",
        "            guessed_letters.append(guess)\n",
        "        else:\n",
        "            # If the guessed letter is incorrect, decrement the attempts left\n",
        "            attempts_left -= 1\n",
        "            print(\"Wrong guess! You have\", attempts_left, \"attempts remaining.\")\n",
        "\n",
        "    # If the player runs out of attempts, the game ends\n",
        "    print(\"Game over! The correct word was:\", word)\n",
        "\n",
        "# Call the hangman function to start the game\n",
        "hangman()\n"
      ],
      "metadata": {
        "colab": {
          "base_uri": "https://localhost:8080/"
        },
        "id": "3nE62Boom1x4",
        "outputId": "5232e6e8-013b-4d5e-e6d5-621766eb7d01"
      },
      "execution_count": 6,
      "outputs": [
        {
          "output_type": "stream",
          "name": "stdout",
          "text": [
            "Welcome to Hangman!\n",
            "_ _ _ _ _ _ \n",
            "Guess a letter: a\n",
            "_ _ a _ _ _ \n",
            "Guess a letter: b\n",
            "Wrong guess! You have 9 attempts remaining.\n",
            "_ _ a _ _ _ \n",
            "Guess a letter: e\n",
            "_ _ a _ _ e \n",
            "Guess a letter: \n",
            "_ _ a _ _ e \n",
            "Guess a letter: i\n",
            "Wrong guess! You have 8 attempts remaining.\n",
            "_ _ a _ _ e \n",
            "Guess a letter: o\n",
            "o _ a _ _ e \n",
            "Guess a letter: u\n",
            "Wrong guess! You have 7 attempts remaining.\n",
            "o _ a _ _ e \n",
            "Guess a letter: c\n",
            "Wrong guess! You have 6 attempts remaining.\n",
            "o _ a _ _ e \n",
            "Guess a letter: d\n",
            "Wrong guess! You have 5 attempts remaining.\n",
            "o _ a _ _ e \n",
            "Guess a letter: g\n",
            "o _ a _ g e \n",
            "Guess a letter: r\n",
            "o r a _ g e \n",
            "Guess a letter: n\n",
            "o r a n g e \n",
            "Congratulations, you won!\n"
          ]
        }
      ]
    },
    {
      "cell_type": "markdown",
      "source": [
        "##Number Guessing Name"
      ],
      "metadata": {
        "id": "2jljizmmnttV"
      }
    },
    {
      "cell_type": "code",
      "source": [
        "28# Importing the random module\n",
        "import random\n",
        "\n",
        "def number_guessing_game():\n",
        "    # Randomly select a number between 1 and 100\n",
        "    target_number = random.randint(1, 100)\n",
        "\n",
        "    # Prompt the user to make a guess\n",
        "    user_guess = int(input(\"Pick a number between 1 and 100: \"))\n",
        "\n",
        "    # Continue to prompt until the user guesses the correct number\n",
        "    while user_guess != target_number:\n",
        "        # Hint if the guess is lower than the target\n",
        "        if user_guess < target_number:\n",
        "            print(\"Guess higher!\")\n",
        "        # Hint if the guess is higher than the target\n",
        "        else:\n",
        "            print(\"Guess lower!\")\n",
        "        # Request another guess\n",
        "        user_guess = int(input(\"Give it another shot: \"))\n",
        "\n",
        "    # Congratulate the user on guessing correctly\n",
        "    print(\"Well done! You found the number.\")\n",
        "\n",
        "# Begin the game\n",
        "number_guessing_game()\n"
      ],
      "metadata": {
        "colab": {
          "base_uri": "https://localhost:8080/"
        },
        "id": "2vmwevCyoEqG",
        "outputId": "6eb323dc-c000-41ba-fb05-92248181059e"
      },
      "execution_count": 7,
      "outputs": [
        {
          "output_type": "stream",
          "name": "stdout",
          "text": [
            "Pick a number between 1 and 100: 2\n",
            "Guess higher!\n",
            "Give it another shot: 3\n",
            "Guess higher!\n",
            "Give it another shot: 50\n",
            "Guess lower!\n",
            "Give it another shot: 25\n",
            "Guess higher!\n",
            "Give it another shot: 35\n",
            "Guess higher!\n",
            "Give it another shot: 40\n",
            "Guess higher!\n",
            "Give it another shot: 45\n",
            "Guess higher!\n",
            "Give it another shot: 48\n",
            "Guess lower!\n",
            "Give it another shot: 46\n",
            "Well done! You found the number.\n"
          ]
        }
      ]
    }
  ]
}